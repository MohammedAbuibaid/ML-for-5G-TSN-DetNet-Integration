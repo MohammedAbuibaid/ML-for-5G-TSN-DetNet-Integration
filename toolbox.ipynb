{
 "cells": [
  {
   "cell_type": "code",
   "execution_count": null,
   "id": "a1b1a4c6",
   "metadata": {},
   "outputs": [
    {
     "name": "stdout",
     "output_type": "stream",
     "text": [
      "ue0:/dev/ttyUSB0\n",
      "ue1:/dev/ttyUSB1\n"
     ]
    },
    {
     "name": "stderr",
     "output_type": "stream",
     "text": [
      "/tmp/ipykernel_304441/1111497101.py:10: DeprecationWarning: Will be removed in 1.0. Access properties with Device.properties.\n",
      "  if parent:\n"
     ]
    }
   ],
   "source": [
    "import pyudev\n",
    "import threading\n",
    "\n",
    "def find_ue_ports():\n",
    "    context = pyudev.Context()\n",
    "    ue_ports = []\n",
    "    for device in context.list_devices(subsystem='tty'):\n",
    "        if 'ttyUSB' in device.sys_name:\n",
    "            parent = device.find_parent('usb', 'usb_device')\n",
    "            if parent:\n",
    "                vid = parent.attributes.get('idVendor')\n",
    "                pid = parent.attributes.get('idProduct')\n",
    "                if vid and pid and vid.decode() == '2c7c':  # Quectel vendor ID\n",
    "                    ue_ports.append(f\"/dev/{device.sys_name}\")\n",
    "    return sorted(ue_ports)\n",
    "\n"
   ]
  },
  {
   "cell_type": "code",
   "execution_count": 5,
   "id": "891f7d3a",
   "metadata": {},
   "outputs": [],
   "source": [
    "def find_ue_ports():\n",
    "    context = pyudev.Context()\n",
    "    ports_by_dev = {}\n",
    "    for device in context.list_devices(subsystem='tty'):\n",
    "        if 'ttyUSB' in device.sys_name:\n",
    "            parent = device.find_parent('usb', 'usb_device')\n",
    "            if parent:\n",
    "                vid = parent.attributes.get('idVendor')\n",
    "                pid = parent.attributes.get('idProduct')\n",
    "                if vid and pid and vid.decode() == '2c7c':\n",
    "                    devname = parent.sys_name  # e.g., 1-1.3\n",
    "                    if devname not in ports_by_dev:\n",
    "                        ports_by_dev[devname] = []\n",
    "                    ports_by_dev[devname].append(f\"/dev/{device.sys_name}\")\n",
    "    # pick the 3rd port (typically diagnostic/AT) per device\n",
    "    selected_ports = []\n",
    "    for dev_ports in ports_by_dev.values():\n",
    "        sorted_ports = sorted(dev_ports)\n",
    "        if len(sorted_ports) >= 3:\n",
    "            selected_ports.append(sorted_ports[2])\n",
    "    return sorted(selected_ports)"
   ]
  },
  {
   "cell_type": "code",
   "execution_count": 6,
   "id": "86023766",
   "metadata": {},
   "outputs": [
    {
     "name": "stdout",
     "output_type": "stream",
     "text": [
      "ue0:/dev/ttyUSB3\n",
      "ue1:/dev/ttyUSB8\n"
     ]
    },
    {
     "name": "stderr",
     "output_type": "stream",
     "text": [
      "/tmp/ipykernel_304441/253004405.py:7: DeprecationWarning: Will be removed in 1.0. Access properties with Device.properties.\n",
      "  if parent:\n"
     ]
    }
   ],
   "source": [
    "ue_ports = find_ue_ports()\n",
    "\n",
    "print(f\"ue0:{ue_ports[0]}\")\n",
    "print(f\"ue1:{ue_ports[1]}\")"
   ]
  }
 ],
 "metadata": {
  "kernelspec": {
   "display_name": "Python 3",
   "language": "python",
   "name": "python3"
  },
  "language_info": {
   "codemirror_mode": {
    "name": "ipython",
    "version": 3
   },
   "file_extension": ".py",
   "mimetype": "text/x-python",
   "name": "python",
   "nbconvert_exporter": "python",
   "pygments_lexer": "ipython3",
   "version": "3.8.10"
  }
 },
 "nbformat": 4,
 "nbformat_minor": 5
}
